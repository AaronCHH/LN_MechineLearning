{
 "cells": [
  {
   "cell_type": "markdown",
   "metadata": {},
   "source": [
    "# Scaler Examples"
   ]
  },
  {
   "cell_type": "markdown",
   "metadata": {},
   "source": [
    "<div id=\"toc\"></div>\n",
    "\n"
   ]
  },
  {
   "cell_type": "markdown",
   "metadata": {},
   "source": [
    "## View Data"
   ]
  },
  {
   "cell_type": "code",
   "execution_count": 1,
   "metadata": {},
   "outputs": [],
   "source": [
    "from sklearn import datasets\n",
    "iris = datasets.load_iris()"
   ]
  },
  {
   "cell_type": "code",
   "execution_count": 2,
   "metadata": {},
   "outputs": [
    {
     "data": {
      "text/plain": [
       "['sepal length (cm)',\n",
       " 'sepal width (cm)',\n",
       " 'petal length (cm)',\n",
       " 'petal width (cm)']"
      ]
     },
     "execution_count": 2,
     "metadata": {},
     "output_type": "execute_result"
    }
   ],
   "source": [
    "iris.feature_names"
   ]
  },
  {
   "cell_type": "code",
   "execution_count": 3,
   "metadata": {},
   "outputs": [
    {
     "data": {
      "text/plain": [
       "array(['setosa', 'versicolor', 'virginica'],\n",
       "      dtype='<U10')"
      ]
     },
     "execution_count": 3,
     "metadata": {},
     "output_type": "execute_result"
    }
   ],
   "source": [
    "iris.target_names"
   ]
  },
  {
   "cell_type": "code",
   "execution_count": 12,
   "metadata": {},
   "outputs": [],
   "source": [
    "data = iris.data"
   ]
  },
  {
   "cell_type": "code",
   "execution_count": 13,
   "metadata": {},
   "outputs": [],
   "source": [
    "target = iris.target"
   ]
  },
  {
   "cell_type": "markdown",
   "metadata": {},
   "source": [
    "## StandardScaler()"
   ]
  },
  {
   "cell_type": "code",
   "execution_count": 23,
   "metadata": {},
   "outputs": [],
   "source": [
    "from sklearn.preprocessing import StandardScaler"
   ]
  },
  {
   "cell_type": "code",
   "execution_count": 24,
   "metadata": {},
   "outputs": [],
   "source": [
    "scaler = StandardScaler()\n",
    "scaled_data = scaler.fit_transform(data)"
   ]
  },
  {
   "cell_type": "code",
   "execution_count": 19,
   "metadata": {},
   "outputs": [
    {
     "data": {
      "text/plain": [
       "array([ -1.69031455e-15,  -1.63702385e-15,  -1.48251781e-15,\n",
       "        -1.62314606e-15])"
      ]
     },
     "execution_count": 19,
     "metadata": {},
     "output_type": "execute_result"
    }
   ],
   "source": [
    "scaled_data.mean(axis=0)"
   ]
  },
  {
   "cell_type": "code",
   "execution_count": 22,
   "metadata": {},
   "outputs": [
    {
     "data": {
      "text/plain": [
       "array([ 1.,  1.,  1.,  1.])"
      ]
     },
     "execution_count": 22,
     "metadata": {},
     "output_type": "execute_result"
    }
   ],
   "source": [
    "scaled_data.std(axis=0)"
   ]
  },
  {
   "cell_type": "code",
   "execution_count": 20,
   "metadata": {
    "scrolled": true
   },
   "outputs": [
    {
     "data": {
      "text/plain": [
       "array([ 2.4920192 ,  3.11468391,  1.78634131,  1.71090158])"
      ]
     },
     "execution_count": 20,
     "metadata": {},
     "output_type": "execute_result"
    }
   ],
   "source": [
    "scaled_data.max(axis=0)"
   ]
  },
  {
   "cell_type": "code",
   "execution_count": 21,
   "metadata": {},
   "outputs": [
    {
     "data": {
      "text/plain": [
       "array([-1.87002413, -2.43898725, -1.56873522, -1.4444497 ])"
      ]
     },
     "execution_count": 21,
     "metadata": {},
     "output_type": "execute_result"
    }
   ],
   "source": [
    "scaled_data.min(axis=0)"
   ]
  },
  {
   "cell_type": "markdown",
   "metadata": {},
   "source": [
    "## MinMaxScaler()"
   ]
  },
  {
   "cell_type": "code",
   "execution_count": 27,
   "metadata": {},
   "outputs": [],
   "source": [
    "from sklearn.preprocessing import MinMaxScaler"
   ]
  },
  {
   "cell_type": "code",
   "execution_count": 28,
   "metadata": {},
   "outputs": [],
   "source": [
    "scaler = MinMaxScaler()\n",
    "scaled_data = scaler.fit_transform(data)"
   ]
  },
  {
   "cell_type": "code",
   "execution_count": 29,
   "metadata": {},
   "outputs": [
    {
     "data": {
      "text/plain": [
       "0.0"
      ]
     },
     "execution_count": 29,
     "metadata": {},
     "output_type": "execute_result"
    }
   ],
   "source": [
    "scaled_data.min()"
   ]
  },
  {
   "cell_type": "code",
   "execution_count": 30,
   "metadata": {},
   "outputs": [
    {
     "data": {
      "text/plain": [
       "1.0"
      ]
     },
     "execution_count": 30,
     "metadata": {},
     "output_type": "execute_result"
    }
   ],
   "source": [
    "scaled_data.max()"
   ]
  },
  {
   "cell_type": "markdown",
   "metadata": {},
   "source": [
    "## MaxAbsScaler()"
   ]
  },
  {
   "cell_type": "code",
   "execution_count": 42,
   "metadata": {},
   "outputs": [],
   "source": [
    "from sklearn.preprocessing import MaxAbsScaler"
   ]
  },
  {
   "cell_type": "code",
   "execution_count": 43,
   "metadata": {},
   "outputs": [],
   "source": [
    "scaler = MaxAbsScaler()\n",
    "scaled_data = scaler.fit_transform(data)"
   ]
  },
  {
   "cell_type": "code",
   "execution_count": 46,
   "metadata": {},
   "outputs": [
    {
     "data": {
      "text/plain": [
       "array([ 0.5443038 ,  0.45454545,  0.14492754,  0.04      ])"
      ]
     },
     "execution_count": 46,
     "metadata": {},
     "output_type": "execute_result"
    }
   ],
   "source": [
    "scaled_data.min(axis=0)"
   ]
  },
  {
   "cell_type": "code",
   "execution_count": 47,
   "metadata": {},
   "outputs": [
    {
     "data": {
      "text/plain": [
       "array([ 0.79545455,  0.68181818,  0.72727273,  0.70454545,  0.81818182,\n",
       "        0.88636364,  0.77272727,  0.77272727,  0.65909091,  0.70454545,\n",
       "        0.84090909,  0.77272727,  0.68181818,  0.68181818,  0.90909091,\n",
       "        1.        ,  0.88636364,  0.79545455,  0.86363636,  0.86363636,\n",
       "        0.77272727,  0.84090909,  0.81818182,  0.75      ,  0.77272727,\n",
       "        0.68181818,  0.77272727,  0.79545455,  0.77272727,  0.72727273,\n",
       "        0.70454545,  0.77272727,  0.93181818,  0.95454545,  0.70454545,\n",
       "        0.72727273,  0.79545455,  0.70454545,  0.68181818,  0.77272727,\n",
       "        0.79545455,  0.56962025,  0.72727273,  0.79545455,  0.86363636,\n",
       "        0.68181818,  0.86363636,  0.72727273,  0.84090909,  0.75      ,\n",
       "        0.88607595,  0.81012658,  0.87341772,  0.69620253,  0.82278481,\n",
       "        0.72151899,  0.79746835,  0.62025316,  0.83544304,  0.65822785,\n",
       "        0.63291139,  0.74683544,  0.75949367,  0.7721519 ,  0.70886076,\n",
       "        0.84810127,  0.70886076,  0.73417722,  0.78481013,  0.70886076,\n",
       "        0.74683544,  0.7721519 ,  0.79746835,  0.7721519 ,  0.81012658,\n",
       "        0.83544304,  0.86075949,  0.84810127,  0.75949367,  0.72151899,\n",
       "        0.69620253,  0.69620253,  0.73417722,  0.75949367,  0.6835443 ,\n",
       "        0.77272727,  0.84810127,  0.79746835,  0.70886076,  0.69620253,\n",
       "        0.69620253,  0.7721519 ,  0.73417722,  0.63291139,  0.70886076,\n",
       "        0.72151899,  0.72151899,  0.78481013,  0.64556962,  0.72151899,\n",
       "        1.        ,  0.76      ,  0.89873418,  0.8115942 ,  0.88      ,\n",
       "        0.96202532,  0.68      ,  0.92405063,  0.84810127,  1.        ,\n",
       "        0.82278481,  0.81012658,  0.86075949,  0.8       ,  0.96      ,\n",
       "        0.92      ,  0.82278481,  0.97468354,  1.        ,  0.75949367,\n",
       "        0.92      ,  0.8       ,  0.97468354,  0.79746835,  0.84810127,\n",
       "        0.91139241,  0.78481013,  0.7721519 ,  0.84      ,  0.91139241,\n",
       "        0.93670886,  1.        ,  0.88      ,  0.79746835,  0.8115942 ,\n",
       "        0.97468354,  0.96      ,  0.81012658,  0.75949367,  0.87341772,\n",
       "        0.96      ,  0.92      ,  0.76      ,  0.92      ,  1.        ,\n",
       "        0.92      ,  0.79746835,  0.82278481,  0.92      ,  0.74683544])"
      ]
     },
     "execution_count": 47,
     "metadata": {},
     "output_type": "execute_result"
    }
   ],
   "source": [
    "scaled_data.max(axis=1)"
   ]
  },
  {
   "cell_type": "markdown",
   "metadata": {},
   "source": [
    "## Normalizer() - 樣本正規化"
   ]
  },
  {
   "cell_type": "code",
   "execution_count": 32,
   "metadata": {},
   "outputs": [],
   "source": [
    "from sklearn.preprocessing import Normalizer"
   ]
  },
  {
   "cell_type": "code",
   "execution_count": 33,
   "metadata": {},
   "outputs": [],
   "source": [
    "n_max = Normalizer(norm='max')"
   ]
  },
  {
   "cell_type": "code",
   "execution_count": 35,
   "metadata": {},
   "outputs": [],
   "source": [
    "n_data = n_max.fit_transform(data)"
   ]
  },
  {
   "cell_type": "code",
   "execution_count": 38,
   "metadata": {},
   "outputs": [
    {
     "data": {
      "text/plain": [
       "array([ 1.        ,  0.78846154,  0.95238095,  0.4137931 ])"
      ]
     },
     "execution_count": 38,
     "metadata": {},
     "output_type": "execute_result"
    }
   ],
   "source": [
    "n_data.max(axis=0)"
   ]
  },
  {
   "cell_type": "code",
   "execution_count": 49,
   "metadata": {},
   "outputs": [
    {
     "data": {
      "text/plain": [
       "array([ 1.,  1.,  1.,  1.,  1.,  1.,  1.,  1.,  1.,  1.,  1.,  1.,  1.,\n",
       "        1.,  1.,  1.,  1.,  1.,  1.,  1.,  1.,  1.,  1.,  1.,  1.,  1.,\n",
       "        1.,  1.,  1.,  1.,  1.,  1.,  1.,  1.,  1.,  1.,  1.,  1.,  1.,\n",
       "        1.,  1.,  1.,  1.,  1.,  1.,  1.,  1.,  1.,  1.,  1.,  1.,  1.,\n",
       "        1.,  1.,  1.,  1.,  1.,  1.,  1.,  1.,  1.,  1.,  1.,  1.,  1.,\n",
       "        1.,  1.,  1.,  1.,  1.,  1.,  1.,  1.,  1.,  1.,  1.,  1.,  1.,\n",
       "        1.,  1.,  1.,  1.,  1.,  1.,  1.,  1.,  1.,  1.,  1.,  1.,  1.,\n",
       "        1.,  1.,  1.,  1.,  1.,  1.,  1.,  1.,  1.,  1.,  1.,  1.,  1.,\n",
       "        1.,  1.,  1.,  1.,  1.,  1.,  1.,  1.,  1.,  1.,  1.,  1.,  1.,\n",
       "        1.,  1.,  1.,  1.,  1.,  1.,  1.,  1.,  1.,  1.,  1.,  1.,  1.,\n",
       "        1.,  1.,  1.,  1.,  1.,  1.,  1.,  1.,  1.,  1.,  1.,  1.,  1.,\n",
       "        1.,  1.,  1.,  1.,  1.,  1.,  1.])"
      ]
     },
     "execution_count": 49,
     "metadata": {},
     "output_type": "execute_result"
    }
   ],
   "source": [
    "n_data.max(axis=1)"
   ]
  },
  {
   "cell_type": "code",
   "execution_count": 39,
   "metadata": {},
   "outputs": [
    {
     "data": {
      "text/plain": [
       "array([ 1.        ,  0.33766234,  0.20689655,  0.01923077])"
      ]
     },
     "execution_count": 39,
     "metadata": {},
     "output_type": "execute_result"
    }
   ],
   "source": [
    "n_data.min(axis=0)"
   ]
  },
  {
   "cell_type": "code",
   "execution_count": 50,
   "metadata": {},
   "outputs": [
    {
     "data": {
      "text/plain": [
       "array([ 0.03921569,  0.04081633,  0.04255319,  0.04347826,  0.04      ,\n",
       "        0.07407407,  0.06521739,  0.04      ,  0.04545455,  0.02040816,\n",
       "        0.03703704,  0.04166667,  0.02083333,  0.02325581,  0.03448276,\n",
       "        0.07017544,  0.07407407,  0.05882353,  0.05263158,  0.05882353,\n",
       "        0.03703704,  0.07843137,  0.04347826,  0.09803922,  0.04166667,\n",
       "        0.04      ,  0.08      ,  0.03846154,  0.03846154,  0.04255319,\n",
       "        0.04166667,  0.07407407,  0.01923077,  0.03636364,  0.02040816,\n",
       "        0.04      ,  0.03636364,  0.02040816,  0.04545455,  0.03921569,\n",
       "        0.06      ,  0.06666667,  0.04545455,  0.12      ,  0.07843137,\n",
       "        0.0625    ,  0.03921569,  0.04347826,  0.03773585,  0.04      ,\n",
       "        0.2       ,  0.234375  ,  0.2173913 ,  0.23636364,  0.23076923,\n",
       "        0.22807018,  0.25396825,  0.20408163,  0.1969697 ,  0.26923077,\n",
       "        0.2       ,  0.25423729,  0.16666667,  0.2295082 ,  0.23214286,\n",
       "        0.20895522,  0.26785714,  0.17241379,  0.24193548,  0.19642857,\n",
       "        0.30508475,  0.21311475,  0.23809524,  0.19672131,  0.203125  ,\n",
       "        0.21212121,  0.20588235,  0.25373134,  0.25      ,  0.1754386 ,\n",
       "        0.2       ,  0.18181818,  0.20689655,  0.26666667,  0.27777778,\n",
       "        0.26666667,  0.2238806 ,  0.20634921,  0.23214286,  0.23636364,\n",
       "        0.21818182,  0.2295082 ,  0.20689655,  0.2       ,  0.23214286,\n",
       "        0.21052632,  0.22807018,  0.20967742,  0.21568627,  0.22807018,\n",
       "        0.3968254 ,  0.32758621,  0.29577465,  0.28571429,  0.33846154,\n",
       "        0.27631579,  0.34693878,  0.24657534,  0.26865672,  0.34722222,\n",
       "        0.30769231,  0.296875  ,  0.30882353,  0.35087719,  0.4137931 ,\n",
       "        0.359375  ,  0.27692308,  0.28571429,  0.2987013 ,  0.25      ,\n",
       "        0.33333333,  0.35714286,  0.25974026,  0.28571429,  0.31343284,\n",
       "        0.25      ,  0.29032258,  0.29508197,  0.328125  ,  0.22222222,\n",
       "        0.25675676,  0.25316456,  0.34375   ,  0.23809524,  0.2295082 ,\n",
       "        0.2987013 ,  0.38095238,  0.28125   ,  0.3       ,  0.30434783,\n",
       "        0.35820896,  0.33333333,  0.32758621,  0.33823529,  0.37313433,\n",
       "        0.34328358,  0.3015873 ,  0.30769231,  0.37096774,  0.30508475])"
      ]
     },
     "execution_count": 50,
     "metadata": {},
     "output_type": "execute_result"
    }
   ],
   "source": [
    "n_data.min(axis=1)"
   ]
  },
  {
   "cell_type": "code",
   "execution_count": 40,
   "metadata": {},
   "outputs": [
    {
     "data": {
      "text/plain": [
       "array([ 1.        ,  0.53442783,  0.61821394,  0.19372947])"
      ]
     },
     "execution_count": 40,
     "metadata": {},
     "output_type": "execute_result"
    }
   ],
   "source": [
    "n_data.mean(axis=0)"
   ]
  },
  {
   "cell_type": "code",
   "execution_count": 37,
   "metadata": {},
   "outputs": [
    {
     "data": {
      "text/plain": [
       "array([ 0.        ,  0.11519629,  0.23966277,  0.11313846])"
      ]
     },
     "execution_count": 37,
     "metadata": {},
     "output_type": "execute_result"
    }
   ],
   "source": [
    "n_data.std(axis=0)"
   ]
  },
  {
   "cell_type": "markdown",
   "metadata": {},
   "source": [
    "## RobustScaler()"
   ]
  },
  {
   "cell_type": "code",
   "execution_count": 57,
   "metadata": {},
   "outputs": [],
   "source": [
    "from sklearn.preprocessing import RobustScaler"
   ]
  },
  {
   "cell_type": "code",
   "execution_count": 58,
   "metadata": {},
   "outputs": [],
   "source": [
    "rb_scaler = RobustScaler(quantile_range=(15,85))"
   ]
  },
  {
   "cell_type": "code",
   "execution_count": 59,
   "metadata": {},
   "outputs": [],
   "source": [
    "scaled_data = rb_scaler.fit_transform(data)"
   ]
  },
  {
   "cell_type": "code",
   "execution_count": 60,
   "metadata": {},
   "outputs": [
    {
     "data": {
      "text/plain": [
       "array([-0.88235294, -1.11111111, -0.80432173, -0.64343164])"
      ]
     },
     "execution_count": 60,
     "metadata": {},
     "output_type": "execute_result"
    }
   ],
   "source": [
    "scaled_data.min(axis=0)"
   ]
  },
  {
   "cell_type": "code",
   "execution_count": 61,
   "metadata": {},
   "outputs": [
    {
     "data": {
      "text/plain": [
       "array([ 1.23529412,  1.55555556,  0.6122449 ,  0.64343164])"
      ]
     },
     "execution_count": 61,
     "metadata": {},
     "output_type": "execute_result"
    }
   ],
   "source": [
    "scaled_data.max(axis=0)"
   ]
  },
  {
   "cell_type": "markdown",
   "metadata": {},
   "source": [
    "## References"
   ]
  },
  {
   "cell_type": "markdown",
   "metadata": {},
   "source": [
    "1. http://scikit-learn.org/stable/modules/preprocessing.html\n",
    "1. Giuseppe B., Machine Learning Algorithm, Packt"
   ]
  },
  {
   "cell_type": "code",
   "execution_count": null,
   "metadata": {},
   "outputs": [],
   "source": []
  }
 ],
 "metadata": {
  "kernelspec": {
   "display_name": "Python [default]",
   "language": "python",
   "name": "python3"
  },
  "language_info": {
   "codemirror_mode": {
    "name": "ipython",
    "version": 3
   },
   "file_extension": ".py",
   "mimetype": "text/x-python",
   "name": "python",
   "nbconvert_exporter": "python",
   "pygments_lexer": "ipython3",
   "version": "3.5.2"
  }
 },
 "nbformat": 4,
 "nbformat_minor": 1
}
